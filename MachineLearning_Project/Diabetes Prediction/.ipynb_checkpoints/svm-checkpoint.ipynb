{
 "cells": [
  {
   "cell_type": "code",
   "execution_count": 1,
   "id": "d44a1713",
   "metadata": {},
   "outputs": [],
   "source": [
    "import numpy as np\n",
    "class SVM_Classifier():\n",
    "    #@ Initiating the hyperparameter\n",
    "    def __init__(self, learning_rate, no_of_iterations, lambda_parameter):\n",
    "        self.learning_rate = learning_rate\n",
    "        self.no_of_iterations = no_of_iterations\n",
    "        self.lambda_parameter = lambda_parameter\n",
    "    #@ Fitting the dataset to SVM Classifier\n",
    "    def fit(self, X, Y):\n",
    "        self.m, self.n = X.shape                                                                    # m --> data points & n --> input features\n",
    "        #@ Initiating weights and bias value\n",
    "        self.w = np.zeros(self.n)                                                                   # Initializing weights\n",
    "        self.b = 0                                                                                  # Initializing bias\n",
    "        self.X = X                                                                                  # X --> Input feature\n",
    "        self.Y = Y                                                                                  # Y --> Output feature that we are going to predict\n",
    "        #@ Implementing Gradient Descent algorithm for Optimization\n",
    "        for i in range(self.no_of_iterations):\n",
    "            self.update_weights()\n",
    "    #@ Function for updating the weight and bias value\n",
    "    def update_weights(self):\n",
    "        y_label = np.where(self.Y <= 0, -1, 1)                                                      # Label Encoding\n",
    "        # Building Gradient (dw & db)\n",
    "        for index, x_i in enumerate(self.X):\n",
    "            condition = y_label[index] * (np.dot(x_i, self.w) - self.b) >= 1\n",
    "        if (condition == True):\n",
    "            dw = 2 * self.lambda_parameter * self.w\n",
    "            db = 0\n",
    "        else:\n",
    "            dw = 2 * self.lambda_parameter * self.w - np.dot(x_i, y_label[index])\n",
    "            db = y_label[index]\n",
    "        #@ Updating Gradient Descent\n",
    "        self.w = self.w - self.learning_rate * dw\n",
    "        self.b = self.b - self.learning_rate * db\n",
    "    #@ Predict the label for given input value\n",
    "    def predict(self, X):\n",
    "        output = np.dot(X, self.w) - self.b\n",
    "        predicted_labels = np.sign(output)\n",
    "        y_hat = np.where(predicted_labels <= -1, 0, 1)                                             # Final predicted output\n",
    "        return y_hat"
   ]
  },
  {
   "cell_type": "code",
   "execution_count": null,
   "id": "e8bed557",
   "metadata": {},
   "outputs": [],
   "source": []
  }
 ],
 "metadata": {
  "kernelspec": {
   "display_name": "Python 3 (ipykernel)",
   "language": "python",
   "name": "python3"
  },
  "language_info": {
   "codemirror_mode": {
    "name": "ipython",
    "version": 3
   },
   "file_extension": ".py",
   "mimetype": "text/x-python",
   "name": "python",
   "nbconvert_exporter": "python",
   "pygments_lexer": "ipython3",
   "version": "3.10.0"
  }
 },
 "nbformat": 4,
 "nbformat_minor": 5
}
